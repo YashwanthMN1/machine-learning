{
 "cells": [
  {
   "cell_type": "code",
   "execution_count": 1,
   "metadata": {},
   "outputs": [
    {
     "data": {
      "text/html": [
       "<div>\n",
       "<style scoped>\n",
       "    .dataframe tbody tr th:only-of-type {\n",
       "        vertical-align: middle;\n",
       "    }\n",
       "\n",
       "    .dataframe tbody tr th {\n",
       "        vertical-align: top;\n",
       "    }\n",
       "\n",
       "    .dataframe thead th {\n",
       "        text-align: right;\n",
       "    }\n",
       "</style>\n",
       "<table border=\"1\" class=\"dataframe\">\n",
       "  <thead>\n",
       "    <tr style=\"text-align: right;\">\n",
       "      <th></th>\n",
       "      <th>Year</th>\n",
       "      <th>OGC</th>\n",
       "      <th>OG</th>\n",
       "      <th>DC</th>\n",
       "      <th>Dept</th>\n",
       "      <th>UC</th>\n",
       "      <th>Union</th>\n",
       "      <th>JF</th>\n",
       "      <th>Job</th>\n",
       "      <th>EI</th>\n",
       "      <th>Salaries</th>\n",
       "      <th>Overtime</th>\n",
       "      <th>H/D</th>\n",
       "      <th>YT</th>\n",
       "      <th>Total_Compensation</th>\n",
       "    </tr>\n",
       "  </thead>\n",
       "  <tbody>\n",
       "    <tr>\n",
       "      <th>287831</th>\n",
       "      <td>2016</td>\n",
       "      <td>3</td>\n",
       "      <td>Human Welfare &amp; Neighborhood Development</td>\n",
       "      <td>DSS</td>\n",
       "      <td>Human Services</td>\n",
       "      <td>535</td>\n",
       "      <td>SEIU - Human Services, Local 1021</td>\n",
       "      <td>Human Services</td>\n",
       "      <td>Senior Eligibility Worker</td>\n",
       "      <td>9610</td>\n",
       "      <td>78980</td>\n",
       "      <td>30115</td>\n",
       "      <td>13068.80</td>\n",
       "      <td>Fiscal</td>\n",
       "      <td>147079</td>\n",
       "    </tr>\n",
       "    <tr>\n",
       "      <th>287832</th>\n",
       "      <td>2015</td>\n",
       "      <td>5</td>\n",
       "      <td>Culture &amp; Recreation</td>\n",
       "      <td>LIB</td>\n",
       "      <td>Public Library</td>\n",
       "      <td>790</td>\n",
       "      <td>SEIU - Miscellaneous, Local 1021</td>\n",
       "      <td>Library</td>\n",
       "      <td>Librarian 1</td>\n",
       "      <td>790</td>\n",
       "      <td>30704</td>\n",
       "      <td>0</td>\n",
       "      <td>5465.57</td>\n",
       "      <td>Calendar</td>\n",
       "      <td>40174</td>\n",
       "    </tr>\n",
       "    <tr>\n",
       "      <th>287833</th>\n",
       "      <td>2014</td>\n",
       "      <td>2</td>\n",
       "      <td>Public Works, Transportation &amp; Commerce</td>\n",
       "      <td>HHP</td>\n",
       "      <td>PUC Hetch Hetchy</td>\n",
       "      <td>6</td>\n",
       "      <td>Electrical Workers, Local 6</td>\n",
       "      <td>Journeyman Trade</td>\n",
       "      <td>Electronic Maintenance Tech</td>\n",
       "      <td>38352</td>\n",
       "      <td>104451</td>\n",
       "      <td>0</td>\n",
       "      <td>13054.94</td>\n",
       "      <td>Calendar</td>\n",
       "      <td>164669</td>\n",
       "    </tr>\n",
       "    <tr>\n",
       "      <th>287834</th>\n",
       "      <td>2013</td>\n",
       "      <td>1</td>\n",
       "      <td>Public Protection</td>\n",
       "      <td>JUV</td>\n",
       "      <td>Juvenile Probation</td>\n",
       "      <td>250</td>\n",
       "      <td>SEIU - Health Workers, Local 1021</td>\n",
       "      <td>Housekeeping &amp; Laundry</td>\n",
       "      <td>Porter</td>\n",
       "      <td>29266</td>\n",
       "      <td>14425</td>\n",
       "      <td>0</td>\n",
       "      <td>4051.90</td>\n",
       "      <td>Calendar</td>\n",
       "      <td>19594</td>\n",
       "    </tr>\n",
       "    <tr>\n",
       "      <th>287835</th>\n",
       "      <td>2015</td>\n",
       "      <td>4</td>\n",
       "      <td>Community Health</td>\n",
       "      <td>DPH</td>\n",
       "      <td>Public Health</td>\n",
       "      <td>791</td>\n",
       "      <td>SEIU - Staff and Per Diem Nurses, Local 1021</td>\n",
       "      <td>Nursing</td>\n",
       "      <td>Special Nurse</td>\n",
       "      <td>13906</td>\n",
       "      <td>105561</td>\n",
       "      <td>8945</td>\n",
       "      <td>7993.89</td>\n",
       "      <td>Fiscal</td>\n",
       "      <td>154197</td>\n",
       "    </tr>\n",
       "  </tbody>\n",
       "</table>\n",
       "</div>"
      ],
      "text/plain": [
       "        Year  OGC                                        OG   DC  \\\n",
       "287831  2016    3  Human Welfare & Neighborhood Development  DSS   \n",
       "287832  2015    5                      Culture & Recreation  LIB   \n",
       "287833  2014    2   Public Works, Transportation & Commerce  HHP   \n",
       "287834  2013    1                         Public Protection  JUV   \n",
       "287835  2015    4                          Community Health  DPH   \n",
       "\n",
       "                      Dept   UC                                         Union  \\\n",
       "287831      Human Services  535             SEIU - Human Services, Local 1021   \n",
       "287832      Public Library  790              SEIU - Miscellaneous, Local 1021   \n",
       "287833    PUC Hetch Hetchy    6                   Electrical Workers, Local 6   \n",
       "287834  Juvenile Probation  250             SEIU - Health Workers, Local 1021   \n",
       "287835       Public Health  791  SEIU - Staff and Per Diem Nurses, Local 1021   \n",
       "\n",
       "                            JF                          Job     EI  Salaries  \\\n",
       "287831          Human Services    Senior Eligibility Worker   9610     78980   \n",
       "287832                 Library                  Librarian 1    790     30704   \n",
       "287833        Journeyman Trade  Electronic Maintenance Tech  38352    104451   \n",
       "287834  Housekeeping & Laundry                       Porter  29266     14425   \n",
       "287835                 Nursing                Special Nurse  13906    105561   \n",
       "\n",
       "        Overtime       H/D        YT  Total_Compensation  \n",
       "287831     30115  13068.80    Fiscal              147079  \n",
       "287832         0   5465.57  Calendar               40174  \n",
       "287833         0  13054.94  Calendar              164669  \n",
       "287834         0   4051.90  Calendar               19594  \n",
       "287835      8945   7993.89    Fiscal              154197  "
      ]
     },
     "execution_count": 1,
     "metadata": {},
     "output_type": "execute_result"
    }
   ],
   "source": [
    "import pandas as pd\n",
    "data =  pd.read_csv('train_set.csv')\n",
    "data.tail()"
   ]
  },
  {
   "cell_type": "code",
   "execution_count": 2,
   "metadata": {},
   "outputs": [
    {
     "data": {
      "text/plain": [
       "Year                  False\n",
       "OGC                   False\n",
       "OG                    False\n",
       "DC                    False\n",
       "Dept                  False\n",
       "UC                    False\n",
       "Union                  True\n",
       "JF                     True\n",
       "Job                   False\n",
       "EI                    False\n",
       "Salaries              False\n",
       "Overtime              False\n",
       "H/D                   False\n",
       "YT                    False\n",
       "Total_Compensation    False\n",
       "dtype: bool"
      ]
     },
     "execution_count": 2,
     "metadata": {},
     "output_type": "execute_result"
    }
   ],
   "source": [
    "data.isnull().any()"
   ]
  },
  {
   "cell_type": "code",
   "execution_count": 3,
   "metadata": {},
   "outputs": [
    {
     "name": "stdout",
     "output_type": "stream",
     "text": [
      "(287836, 15)\n",
      "(287798, 15)\n"
     ]
    }
   ],
   "source": [
    "print(data.shape)\n",
    "data = data.dropna()\n",
    "print(data.shape)"
   ]
  },
  {
   "cell_type": "code",
   "execution_count": 4,
   "metadata": {},
   "outputs": [
    {
     "name": "stdout",
     "output_type": "stream",
     "text": [
      "(287798, 1378)\n"
     ]
    }
   ],
   "source": [
    "data1 = pd.get_dummies(data,drop_first=True)\n",
    "print(data1.shape)\n",
    "#due to high computational power requirment i have taken only 100000\n",
    "data2 = data1.iloc[:10000,:]"
   ]
  },
  {
   "cell_type": "code",
   "execution_count": 5,
   "metadata": {},
   "outputs": [],
   "source": [
    "x=data2.drop('Total_Compensation',axis = 1)\n",
    "y = data2['Total_Compensation']"
   ]
  },
  {
   "cell_type": "code",
   "execution_count": 6,
   "metadata": {},
   "outputs": [],
   "source": [
    "from sklearn.model_selection import train_test_split\n",
    "from sklearn.neighbors import KNeighborsRegressor"
   ]
  },
  {
   "cell_type": "code",
   "execution_count": 7,
   "metadata": {},
   "outputs": [
    {
     "data": {
      "text/plain": [
       "KNeighborsRegressor(n_neighbors=3)"
      ]
     },
     "execution_count": 7,
     "metadata": {},
     "output_type": "execute_result"
    }
   ],
   "source": [
    "x_train,x_test,y_train,y_test = train_test_split(x,y,random_state = 3)\n",
    "model = KNeighborsRegressor(n_neighbors=3)\n",
    "model.fit(x_train,y_train)"
   ]
  },
  {
   "cell_type": "code",
   "execution_count": 8,
   "metadata": {},
   "outputs": [
    {
     "name": "stdout",
     "output_type": "stream",
     "text": [
      "0.9933216899127194\n",
      "0.981765539227984\n"
     ]
    }
   ],
   "source": [
    "y_pred = model.predict(x_test)\n",
    "print(model.score(x_train,y_train))\n",
    "print(model.score(x_test,y_test))"
   ]
  },
  {
   "cell_type": "markdown",
   "metadata": {},
   "source": [
    "# just for experiment"
   ]
  },
  {
   "cell_type": "code",
   "execution_count": 9,
   "metadata": {},
   "outputs": [],
   "source": [
    "data3 = data1.iloc[0:1000,:]\n",
    "x=data3.drop('Total_Compensation',axis = 1)\n",
    "y = data3['Total_Compensation']\n",
    "x_train,x_test,y_train,y_test = train_test_split(x,y,random_state = 3)"
   ]
  },
  {
   "cell_type": "code",
   "execution_count": 10,
   "metadata": {},
   "outputs": [
    {
     "name": "stdout",
     "output_type": "stream",
     "text": [
      "1.0 0.9808313810380844\n",
      "0.9956424779882768 0.9846481813996998\n",
      "0.9933728757544568 0.9878457883726961\n",
      "0.9916565463579846 0.9876548171383087\n",
      "0.9899710823426093 0.9869002660369128\n",
      "0.9888212531210157 0.9853808636182502\n",
      "0.987237730279844 0.9854170674178659\n",
      "0.9860906432613037 0.9851531840728595\n",
      "0.985408569085645 0.9842445866011741\n",
      "0.9840843024173364 0.9843414254723176\n",
      "0.9827512606054397 0.9839734390821416\n",
      "0.9822706434750538 0.9837841553288581\n",
      "0.9813809922882675 0.9830627567407524\n",
      "0.9803989126933771 0.9825374617447155\n",
      "0.9798532197374257 0.9820214486539232\n",
      "0.9791421433627603 0.9821238590859438\n",
      "0.9785161697872954 0.9814978113046368\n",
      "0.9780483358949353 0.9811088457476489\n",
      "0.9775917202805624 0.9801539255321169\n"
     ]
    }
   ],
   "source": [
    "lst1 = []\n",
    "lst2 = []\n",
    "for i in range(1,20):\n",
    "    model = KNeighborsRegressor(n_neighbors=i)\n",
    "    model.fit(x_train,y_train)\n",
    "    y_pred = model.predict(x_test)\n",
    "    print(model.score(x_train,y_train),model.score(x_test,y_test))\n",
    "    lst1.append(model.score(x_train,y_train))\n",
    "    lst2.append(model.score(x_test,y_test))"
   ]
  },
  {
   "cell_type": "code",
   "execution_count": null,
   "metadata": {},
   "outputs": [],
   "source": []
  }
 ],
 "metadata": {
  "kernelspec": {
   "display_name": "Python 3",
   "language": "python",
   "name": "python3"
  },
  "language_info": {
   "codemirror_mode": {
    "name": "ipython",
    "version": 3
   },
   "file_extension": ".py",
   "mimetype": "text/x-python",
   "name": "python",
   "nbconvert_exporter": "python",
   "pygments_lexer": "ipython3",
   "version": "3.8.3"
  }
 },
 "nbformat": 4,
 "nbformat_minor": 4
}
