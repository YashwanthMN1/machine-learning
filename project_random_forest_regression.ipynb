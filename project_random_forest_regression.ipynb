{
  "nbformat": 4,
  "nbformat_minor": 0,
  "metadata": {
    "colab": {
      "name": "project_random_forest_regression.ipynb",
      "provenance": [],
      "collapsed_sections": [],
      "mount_file_id": "1dU1m7IWGhAMqrN-hW4A1UNX6avj6XUHt",
      "authorship_tag": "ABX9TyNkjOGTzvRdeN/jW+5cdV6Y",
      "include_colab_link": true
    },
    "kernelspec": {
      "name": "python3",
      "display_name": "Python 3"
    },
    "language_info": {
      "name": "python"
    }
  },
  "cells": [
    {
      "cell_type": "markdown",
      "metadata": {
        "id": "view-in-github",
        "colab_type": "text"
      },
      "source": [
        "<a href=\"https://colab.research.google.com/github/YashwanthMN1/machine-learning/blob/main/project_random_forest_regression.ipynb\" target=\"_parent\"><img src=\"https://colab.research.google.com/assets/colab-badge.svg\" alt=\"Open In Colab\"/></a>"
      ]
    },
    {
      "cell_type": "code",
      "metadata": {
        "id": "Yiz1J_kZLsxB"
      },
      "source": [
        "import pandas as pd\n",
        "data = pd.read_csv('salary,satisfaction.csv',encoding='latin1')"
      ],
      "execution_count": 2,
      "outputs": []
    },
    {
      "cell_type": "code",
      "metadata": {
        "id": "XMWqSm1g7_Iv"
      },
      "source": [
        "data1 = data"
      ],
      "execution_count": 3,
      "outputs": []
    },
    {
      "cell_type": "code",
      "metadata": {
        "colab": {
          "base_uri": "https://localhost:8080/"
        },
        "id": "OKO-n2Zc-Fjn",
        "outputId": "8b2e73ea-2b05-4f8d-9b0c-f49e4a7cc9e6"
      },
      "source": [
        "from sklearn.preprocessing import LabelEncoder\n",
        "le = LabelEncoder()\n",
        "col_list = ['Business Title','Minimum Qual Requirements','Residency Requirement','Civil Service Title','Division/Work Unit','title']\n",
        "print(col_list)\n",
        "\n",
        "for i in col_list:\n",
        "  data1[i] = le.fit_transform(data1[i].astype(str))"
      ],
      "execution_count": 4,
      "outputs": [
        {
          "output_type": "stream",
          "text": [
            "['Business Title', 'Minimum Qual Requirements', 'Residency Requirement', 'Civil Service Title', 'Division/Work Unit', 'title']\n"
          ],
          "name": "stdout"
        }
      ]
    },
    {
      "cell_type": "code",
      "metadata": {
        "colab": {
          "base_uri": "https://localhost:8080/"
        },
        "id": "Um5jIzYNUWrl",
        "outputId": "36cc32d0-ab0d-4e20-b277-47e0b3c235c8"
      },
      "source": [
        "data1.dropna(inplace=True)"
      ],
      "execution_count": 5,
      "outputs": [
        {
          "output_type": "stream",
          "text": [
            "/usr/local/lib/python3.7/dist-packages/ipykernel_launcher.py:1: SettingWithCopyWarning: \n",
            "A value is trying to be set on a copy of a slice from a DataFrame\n",
            "\n",
            "See the caveats in the documentation: https://pandas.pydata.org/pandas-docs/stable/user_guide/indexing.html#returning-a-view-versus-a-copy\n",
            "  \"\"\"Entry point for launching an IPython kernel.\n"
          ],
          "name": "stderr"
        }
      ]
    },
    {
      "cell_type": "code",
      "metadata": {
        "colab": {
          "base_uri": "https://localhost:8080/"
        },
        "id": "78VfG_IBUZhq",
        "outputId": "6453f5e1-1e9a-4cd5-ea08-93107fc0ee65"
      },
      "source": [
        "data1.shape"
      ],
      "execution_count": 5,
      "outputs": [
        {
          "output_type": "execute_result",
          "data": {
            "text/plain": [
              "(2946, 83)"
            ]
          },
          "metadata": {
            "tags": []
          },
          "execution_count": 5
        }
      ]
    },
    {
      "cell_type": "code",
      "metadata": {
        "colab": {
          "base_uri": "https://localhost:8080/"
        },
        "id": "QNEcTHN7KXYM",
        "outputId": "550f6261-d4f7-4469-d16b-4ea1f2492309"
      },
      "source": [
        "#checking and removing duplicate entries\n",
        "print(data.shape)\n",
        "data.drop_duplicates(subset='id')\n",
        "print(data.shape)"
      ],
      "execution_count": null,
      "outputs": [
        {
          "output_type": "stream",
          "text": [
            "(2946, 83)\n",
            "(2946, 83)\n"
          ],
          "name": "stdout"
        }
      ]
    },
    {
      "cell_type": "code",
      "metadata": {
        "id": "Bwer1FirZpT3"
      },
      "source": [
        "null_columns = data.columns[data.isnull().any()]\n",
        "sum = data[null_columns].isnull().sum()\n",
        "print(sum.sort_values(ascending=False))\n",
        "print(sum.shape)"
      ],
      "execution_count": null,
      "outputs": []
    },
    {
      "cell_type": "code",
      "metadata": {
        "id": "71KrfEkbLrQ4"
      },
      "source": [
        "#col_list = ['Business Title','Minimum Qual Requirements','Residency Requirement','Civil Service Title','Division/Work Unit','title']\n",
        "#df = pd.get_dummies(data1)"
      ],
      "execution_count": 7,
      "outputs": []
    },
    {
      "cell_type": "code",
      "metadata": {
        "colab": {
          "base_uri": "https://localhost:8080/"
        },
        "id": "VXIyFWC8Acsa",
        "outputId": "11d3bc24-1df1-4c1d-a8d1-e35f0431c94a"
      },
      "source": [
        "data1.shape"
      ],
      "execution_count": 15,
      "outputs": [
        {
          "output_type": "execute_result",
          "data": {
            "text/plain": [
              "(2858, 7)"
            ]
          },
          "metadata": {
            "tags": []
          },
          "execution_count": 15
        }
      ]
    },
    {
      "cell_type": "code",
      "metadata": {
        "id": "yOOZTXSJLru7"
      },
      "source": [
        "features = data1[col_list]\n",
        "target = data['Target_Salary']"
      ],
      "execution_count": 6,
      "outputs": []
    },
    {
      "cell_type": "code",
      "metadata": {
        "colab": {
          "base_uri": "https://localhost:8080/"
        },
        "id": "cHks4H6ELrzT",
        "outputId": "75292e8a-60b0-4d28-b1a6-cd2a7947a296"
      },
      "source": [
        "#regression\n",
        "#importing necessary libraries\n",
        "from sklearn.model_selection import train_test_split\n",
        "from sklearn.preprocessing import StandardScaler\n",
        "from sklearn.ensemble import RandomForestRegressor\n",
        "from sklearn.metrics import mean_squared_error\n",
        "\n",
        "#splitting data into training and testing set\n",
        "X_train, X_test, y_train, y_test = train_test_split(features,target,test_size = 0.2,random_state = 7)\n",
        "\n",
        "# scaling data\n",
        "# sc = StandardScaler()\n",
        "# X_train = sc.fit_transform(X_train)\n",
        "# X_test = sc.transform(X_test)\n",
        "\n",
        "#model builing\n",
        "reg_model = RandomForestRegressor(n_estimators=190)\n",
        "reg_model.fit(X_train,y_train)\n",
        "model_predictions = reg_model.predict(X_test)\n",
        "#printing model scores\n",
        "print('Regression Model Score for Training Set is  ==>',reg_model.score(X_train,y_train))\n",
        "print('Regression Model Score for Testing Set is   ==>',reg_model.score(X_test,y_test))#must be above 0.77\n",
        "\n",
        "#printing root mean squared error\n",
        "print('RMSE for Regression Model is  ===>',mean_squared_error(y_test,model_predictions, squared=False))"
      ],
      "execution_count": 18,
      "outputs": [
        {
          "output_type": "stream",
          "text": [
            "Regression Model Score for Training Set is  ==> 0.9662710382777586\n",
            "Regression Model Score for Testing Set is   ==> 0.7898299786689722\n",
            "RMSE for Regression Model is  ===> 11771.745089319804\n"
          ],
          "name": "stdout"
        }
      ]
    },
    {
      "cell_type": "code",
      "metadata": {
        "colab": {
          "base_uri": "https://localhost:8080/"
        },
        "id": "v1iBslD626e1",
        "outputId": "7e948b0a-2117-421c-a664-c0602ac84e57"
      },
      "source": [
        "n_est = 0\n",
        "l_rmse = 12000\n",
        "for i in range(15,25):\n",
        "  reg_model = RandomForestRegressor(n_estimators=i*10)\n",
        "  reg_model.fit(X_train,y_train)\n",
        "  model_predictions = reg_model.predict(X_test)\n",
        "  #printing model scores\n",
        "  print('Regression Model Score for Training Set is  ==>',reg_model.score(X_train,y_train))\n",
        "  print('Regression Model Score for Testing Set is   ==>',reg_model.score(X_test,y_test))#must be above 0.77\n",
        "\n",
        "  rmse = mean_squared_error(y_test,model_predictions, squared=False)\n",
        "  print('RMSE for Regression Model is  ===>',rmse)\n",
        "  if rmse < l_rmse :\n",
        "    n_est = i*10\n",
        "    l_rmse = rmse\n",
        "    print(l_rmse,n_est)"
      ],
      "execution_count": 20,
      "outputs": [
        {
          "output_type": "stream",
          "text": [
            "Regression Model Score for Training Set is  ==> 0.9650658587052205\n",
            "Regression Model Score for Testing Set is   ==> 0.7699701203867916\n",
            "RMSE for Regression Model is  ===> 12315.37359644753\n",
            "Regression Model Score for Training Set is  ==> 0.9658361376326825\n",
            "Regression Model Score for Testing Set is   ==> 0.7797351078028588\n",
            "RMSE for Regression Model is  ===> 12051.139269303143\n",
            "Regression Model Score for Training Set is  ==> 0.9652771141796179\n",
            "Regression Model Score for Testing Set is   ==> 0.7862764717975044\n",
            "RMSE for Regression Model is  ===> 11870.844948619088\n",
            "11870.844948619088 170\n",
            "Regression Model Score for Training Set is  ==> 0.9654705606364958\n",
            "Regression Model Score for Testing Set is   ==> 0.7773475037333859\n",
            "RMSE for Regression Model is  ===> 12116.278554692504\n",
            "Regression Model Score for Training Set is  ==> 0.9668777634038084\n",
            "Regression Model Score for Testing Set is   ==> 0.7779835590855976\n",
            "RMSE for Regression Model is  ===> 12098.95978274759\n",
            "Regression Model Score for Training Set is  ==> 0.9671091997227194\n",
            "Regression Model Score for Testing Set is   ==> 0.7819165780825275\n",
            "RMSE for Regression Model is  ===> 11991.314443617212\n",
            "Regression Model Score for Training Set is  ==> 0.9656029488709842\n",
            "Regression Model Score for Testing Set is   ==> 0.7810430759331801\n",
            "RMSE for Regression Model is  ===> 12015.305197548658\n",
            "Regression Model Score for Training Set is  ==> 0.9667943773659088\n",
            "Regression Model Score for Testing Set is   ==> 0.7829315124360627\n",
            "RMSE for Regression Model is  ===> 11963.378826579536\n",
            "Regression Model Score for Training Set is  ==> 0.9660744197682893\n",
            "Regression Model Score for Testing Set is   ==> 0.782064926140227\n",
            "RMSE for Regression Model is  ===> 11987.23529168091\n",
            "Regression Model Score for Training Set is  ==> 0.9666483724007852\n",
            "Regression Model Score for Testing Set is   ==> 0.7821628168510779\n",
            "RMSE for Regression Model is  ===> 11984.542813682418\n"
          ],
          "name": "stdout"
        }
      ]
    },
    {
      "cell_type": "code",
      "metadata": {
        "id": "FB9lpuxBgJNo"
      },
      "source": [
        "from sklearn.model_selection import GridSearchCV\n",
        "# Create the parameter grid based on the results of random search \n",
        "param_grid = {\n",
        "    'max_depth': [80, 90, 100, 110],\n",
        "    'max_features': [30],\n",
        "    'min_samples_leaf': [3, 4, 5],\n",
        "    'min_samples_split': [8, 10, 12],\n",
        "    'n_estimators': [100,200,300,400,500]\n",
        "}\n",
        "# Create a based model\n",
        "rf = RandomForestRegressor()\n",
        "# Instantiate the grid search model\n",
        "grid_search = GridSearchCV(estimator = rf, param_grid = param_grid, \n",
        "                          cv = 3, n_jobs = -1, verbose = 2)"
      ],
      "execution_count": null,
      "outputs": []
    },
    {
      "cell_type": "code",
      "metadata": {
        "id": "Sja7ICSJG64J"
      },
      "source": [
        ""
      ],
      "execution_count": null,
      "outputs": []
    },
    {
      "cell_type": "code",
      "metadata": {
        "id": "Af4FkpjcxjMd"
      },
      "source": [
        ""
      ],
      "execution_count": null,
      "outputs": []
    },
    {
      "cell_type": "code",
      "metadata": {
        "id": "tldMcuTlgMiC"
      },
      "source": [
        "grid_search.fit(features, target)\n",
        "\n",
        "\n",
        "grid_search.best_params_"
      ],
      "execution_count": null,
      "outputs": []
    },
    {
      "cell_type": "code",
      "metadata": {
        "id": "ClhQwI5LLrYe"
      },
      "source": [
        ""
      ],
      "execution_count": null,
      "outputs": []
    },
    {
      "cell_type": "code",
      "metadata": {
        "colab": {
          "base_uri": "https://localhost:8080/"
        },
        "id": "8wXzj-mzXi0g",
        "outputId": "0db15058-b8c2-4e3e-a662-c2026483953c"
      },
      "source": [
        "positive = ['must be a City resident','Must be a resident','generally required','is required','IS REQUIRED','residency required','counties required','has residency','must be a resident','resident of the city']\n",
        "negetive = ['is not required','no Residency','no residency','NOT REQUIRED','exempt from']\n",
        "\n",
        "n = len(data1['Residency Requirement'])\n",
        "for i in range(n):\n",
        "  for j in positive:\n",
        "    if j in str(data1['Residency Requirement'][i]):\n",
        "      data1['Residency Requirement'][i] = 'positive'\n",
        "  for n in negetive:\n",
        "    if n in str(data1['Residency Requirement'][i]):\n",
        "      data1['Residency Requirement'][i] = 'negetive'\n"
      ],
      "execution_count": 25,
      "outputs": [
        {
          "output_type": "stream",
          "text": [
            "/usr/local/lib/python3.7/dist-packages/ipykernel_launcher.py:8: SettingWithCopyWarning: \n",
            "A value is trying to be set on a copy of a slice from a DataFrame\n",
            "\n",
            "See the caveats in the documentation: https://pandas.pydata.org/pandas-docs/stable/user_guide/indexing.html#returning-a-view-versus-a-copy\n",
            "  \n",
            "/usr/local/lib/python3.7/dist-packages/IPython/core/interactiveshell.py:2882: SettingWithCopyWarning: \n",
            "A value is trying to be set on a copy of a slice from a DataFrame\n",
            "\n",
            "See the caveats in the documentation: https://pandas.pydata.org/pandas-docs/stable/user_guide/indexing.html#returning-a-view-versus-a-copy\n",
            "  exec(code_obj, self.user_global_ns, self.user_ns)\n",
            "/usr/local/lib/python3.7/dist-packages/ipykernel_launcher.py:11: SettingWithCopyWarning: \n",
            "A value is trying to be set on a copy of a slice from a DataFrame\n",
            "\n",
            "See the caveats in the documentation: https://pandas.pydata.org/pandas-docs/stable/user_guide/indexing.html#returning-a-view-versus-a-copy\n",
            "  # This is added back by InteractiveShellApp.init_path()\n"
          ],
          "name": "stderr"
        }
      ]
    },
    {
      "cell_type": "code",
      "metadata": {
        "id": "0EkFhpymd2Mk"
      },
      "source": [
        "col = ['Business Title','Civil Service Title','Division/Work Unit',\n",
        "       'Minimum Qual Requirements','Residency Requirement',\n",
        "       'title','Target_Salary']\n",
        "\n",
        "removed_cols= ['dti','latitude', 'longitude','Posting Date','CompanySize','dateAdded','Posting Updated',\n",
        "       'Process Date','FormalEducation',]\n",
        "data1 = data[col]"
      ],
      "execution_count": 4,
      "outputs": []
    }
  ]
}