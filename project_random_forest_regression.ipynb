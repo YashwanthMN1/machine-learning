{
  "nbformat": 4,
  "nbformat_minor": 0,
  "metadata": {
    "colab": {
      "name": "project_random_forest_regression.ipynb",
      "provenance": [],
      "collapsed_sections": [],
      "mount_file_id": "1dU1m7IWGhAMqrN-hW4A1UNX6avj6XUHt",
      "authorship_tag": "ABX9TyPdMo/hfyl8FvsHhDnQrF+c",
      "include_colab_link": true
    },
    "kernelspec": {
      "name": "python3",
      "display_name": "Python 3"
    },
    "language_info": {
      "name": "python"
    }
  },
  "cells": [
    {
      "cell_type": "markdown",
      "metadata": {
        "id": "view-in-github",
        "colab_type": "text"
      },
      "source": [
        "<a href=\"https://colab.research.google.com/github/YashwanthMN1/machine-learning/blob/main/project_random_forest_regression.ipynb\" target=\"_parent\"><img src=\"https://colab.research.google.com/assets/colab-badge.svg\" alt=\"Open In Colab\"/></a>"
      ]
    },
    {
      "cell_type": "code",
      "metadata": {
        "id": "Yiz1J_kZLsxB"
      },
      "source": [
        "import pandas as pd\n",
        "data = pd.read_csv('salary,satisfaction.csv',encoding='latin1')"
      ],
      "execution_count": 9,
      "outputs": []
    },
    {
      "cell_type": "code",
      "metadata": {
        "colab": {
          "base_uri": "https://localhost:8080/"
        },
        "id": "QNEcTHN7KXYM",
        "outputId": "cac48a91-5811-47ef-e238-99b9ce7701f8"
      },
      "source": [
        "#checking and removing duplicate entries\n",
        "print(data.shape)\n",
        "data.drop_duplicates(subset='id')\n",
        "print(data.shape)"
      ],
      "execution_count": 10,
      "outputs": [
        {
          "output_type": "stream",
          "text": [
            "(2946, 83)\n",
            "(2946, 83)\n"
          ],
          "name": "stdout"
        }
      ]
    },
    {
      "cell_type": "code",
      "metadata": {
        "colab": {
          "base_uri": "https://localhost:8080/"
        },
        "id": "Bwer1FirZpT3",
        "outputId": "3602990d-b25f-4336-cf60-698fd02d7c95"
      },
      "source": [
        "null_columns = data.columns[data.isnull().any()]\n",
        "sum = data[null_columns].isnull().sum()\n",
        "print(sum.sort_values(ascending=False))\n",
        "print(sum.shape)"
      ],
      "execution_count": 11,
      "outputs": [
        {
          "output_type": "stream",
          "text": [
            "TimeAfterBootcamp             2725\n",
            "next_pymnt_d                  2610\n",
            "PHONE                         2231\n",
            "emp_length                    2231\n",
            "HackathonReasons              2097\n",
            "Hours/Shift                   2062\n",
            "FrameworkWorkedWith           1313\n",
            "FrameworkDesireNextYear       1215\n",
            "SelfTaughtTypes               1134\n",
            "DatabaseDesireNextYear        1115\n",
            "Additional Information        1092\n",
            "PlatformDesireNextYear        1037\n",
            "Email                         1005\n",
            "Methodology                    955\n",
            "AIDangerous                    946\n",
            "CommunicationTools             923\n",
            "Age                            919\n",
            "TimeFullyProductive            894\n",
            "AIResponsible                  876\n",
            "PlatformWorkedWith             876\n",
            "AIInteresting                  870\n",
            "UpdateCV                       857\n",
            "EducationTypes                 818\n",
            "DatabaseWorkedWith             816\n",
            "AgreeDisagree2                 813\n",
            "AgreeDisagree1                 813\n",
            "AgreeDisagree3                 807\n",
            "AIFuture                       750\n",
            "LanguageDesireNextYear         667\n",
            "CheckInCode                    627\n",
            "VersionControl                 614\n",
            "IDE                            586\n",
            "OperatingSystem                569\n",
            "website                        547\n",
            "officeaddress                  539\n",
            "LanguageWorkedWith             499\n",
            "HopeFiveYears                  469\n",
            "LastNewJob                     447\n",
            "JobSearchStatus                435\n",
            "YearsCodingProf                408\n",
            "Preferred Skills               393\n",
            "UndergradMajor                 322\n",
            "latitude                       317\n",
            "homeaddress                    317\n",
            "longitude                      317\n",
            "title                           64\n",
            "FormalEducation                 52\n",
            "DevType                         45\n",
            "Minimum Qual Requirements       20\n",
            "Process Date                     4\n",
            "Posting Updated                  4\n",
            "Posting Date                     4\n",
            "Residency Requirement            4\n",
            "YearsCoding                      3\n",
            "your_favoritearticle_today       1\n",
            "To Apply                         1\n",
            "dtype: int64\n",
            "(56,)\n"
          ],
          "name": "stdout"
        }
      ]
    },
    {
      "cell_type": "code",
      "metadata": {
        "id": "XMWqSm1g7_Iv"
      },
      "source": [
        "data1 = data"
      ],
      "execution_count": 13,
      "outputs": []
    },
    {
      "cell_type": "code",
      "metadata": {
        "colab": {
          "base_uri": "https://localhost:8080/"
        },
        "id": "OKO-n2Zc-Fjn",
        "outputId": "6060fbd3-076d-4459-9a7d-9b7220c30325"
      },
      "source": [
        "from sklearn.preprocessing import LabelEncoder\n",
        "le = LabelEncoder()\n",
        "col_list = ['Business Title','Minimum Qual Requirements','Residency Requirement','Civil Service Title','Division/Work Unit','title']\n",
        "\n",
        "for i in col_list:\n",
        "  data1[i] = le.fit_transform(data1[i].astype(str))"
      ],
      "execution_count": 14,
      "outputs": [
        {
          "output_type": "stream",
          "text": [
            "['Business Title', 'Minimum Qual Requirements', 'Residency Requirement', 'Civil Service Title', 'Division/Work Unit', 'title']\n"
          ],
          "name": "stdout"
        }
      ]
    },
    {
      "cell_type": "code",
      "metadata": {
        "colab": {
          "base_uri": "https://localhost:8080/"
        },
        "id": "VXIyFWC8Acsa",
        "outputId": "cdb1ada6-cbd2-45a7-ca57-a2654702434a"
      },
      "source": [
        "data1.shape"
      ],
      "execution_count": 15,
      "outputs": [
        {
          "output_type": "execute_result",
          "data": {
            "text/plain": [
              "(2946, 83)"
            ]
          },
          "metadata": {
            "tags": []
          },
          "execution_count": 15
        }
      ]
    },
    {
      "cell_type": "code",
      "metadata": {
        "id": "yOOZTXSJLru7"
      },
      "source": [
        "features = data1[col_list]\n",
        "target = data['Target_Salary']"
      ],
      "execution_count": 16,
      "outputs": []
    },
    {
      "cell_type": "code",
      "metadata": {
        "colab": {
          "base_uri": "https://localhost:8080/"
        },
        "id": "cHks4H6ELrzT",
        "outputId": "8545a78a-d0e1-4768-e49d-c120273bdc49"
      },
      "source": [
        "#regression\n",
        "#importing necessary libraries\n",
        "from sklearn.model_selection import train_test_split\n",
        "from sklearn.preprocessing import StandardScaler\n",
        "from sklearn.ensemble import RandomForestRegressor\n",
        "from sklearn.metrics import mean_squared_error\n",
        "\n",
        "#splitting data into training and testing set\n",
        "X_train, X_test, y_train, y_test = train_test_split(features,target,test_size = 0.2,random_state = 7)\n",
        "\n",
        "# scaling data\n",
        "# sc = StandardScaler()\n",
        "# X_train = sc.fit_transform(X_train)\n",
        "# X_test = sc.transform(X_test)\n",
        "\n",
        "#model builing\n",
        "reg_model = RandomForestRegressor(n_estimators=190)\n",
        "reg_model.fit(X_train,y_train)\n",
        "model_predictions = reg_model.predict(X_test)\n",
        "#printing model scores\n",
        "print('Regression Model Score for Training Set is  ==>',reg_model.score(X_train,y_train))\n",
        "print('Regression Model Score for Testing Set is   ==>',reg_model.score(X_test,y_test))#must be above 0.77\n",
        "\n",
        "#printing root mean squared error\n",
        "print('RMSE for Regression Model is  ===>',mean_squared_error(y_test,model_predictions,squared=False))"
      ],
      "execution_count": 21,
      "outputs": [
        {
          "output_type": "stream",
          "text": [
            "Regression Model Score for Training Set is  ==> 0.9657846334677278\n",
            "Regression Model Score for Testing Set is   ==> 0.7831673617891148\n",
            "RMSE for Regression Model is  ===> 11956.877832298338\n"
          ],
          "name": "stdout"
        }
      ]
    },
    {
      "cell_type": "code",
      "metadata": {
        "colab": {
          "base_uri": "https://localhost:8080/"
        },
        "id": "v1iBslD626e1",
        "outputId": "bfdf49aa-6347-48ba-d0c2-7688fe70ac2e"
      },
      "source": [
        "n_est = 0\n",
        "l_rmse = 12000\n",
        "for i in range(15,25):\n",
        "  reg_model = RandomForestRegressor(n_estimators=i*10)\n",
        "  reg_model.fit(X_train,y_train)\n",
        "  model_predictions = reg_model.predict(X_test)\n",
        "  #printing model scores\n",
        "  print('Regression Model Score for Training Set is  ==>',reg_model.score(X_train,y_train))\n",
        "  print('Regression Model Score for Testing Set is   ==>',reg_model.score(X_test,y_test))#must be above 0.77\n",
        "\n",
        "  rmse = mean_squared_error(y_test,model_predictions, squared=False)\n",
        "  print('RMSE for Regression Model is  ===>',rmse)\n",
        "  if rmse < l_rmse :\n",
        "    n_est = i*10\n",
        "    l_rmse = rmse\n",
        "    print(l_rmse,n_est)"
      ],
      "execution_count": 20,
      "outputs": [
        {
          "output_type": "stream",
          "text": [
            "Regression Model Score for Training Set is  ==> 0.9661919158266712\n",
            "Regression Model Score for Testing Set is   ==> 0.7777245660547715\n",
            "RMSE for Regression Model is  ===> 12106.014739860215\n",
            "Regression Model Score for Training Set is  ==> 0.9659691500773067\n",
            "Regression Model Score for Testing Set is   ==> 0.7796281418391227\n",
            "RMSE for Regression Model is  ===> 12054.06507661473\n",
            "Regression Model Score for Training Set is  ==> 0.9658423021184814\n",
            "Regression Model Score for Testing Set is   ==> 0.7855694498798043\n",
            "RMSE for Regression Model is  ===> 11890.46379423769\n",
            "11890.46379423769 170\n",
            "Regression Model Score for Training Set is  ==> 0.9668416129739826\n",
            "Regression Model Score for Testing Set is   ==> 0.7812694430320474\n",
            "RMSE for Regression Model is  ===> 12009.092621412005\n",
            "Regression Model Score for Training Set is  ==> 0.9657130480388353\n",
            "Regression Model Score for Testing Set is   ==> 0.7795588907271414\n",
            "RMSE for Regression Model is  ===> 12055.958902459362\n",
            "Regression Model Score for Training Set is  ==> 0.9664542150744808\n",
            "Regression Model Score for Testing Set is   ==> 0.7872947271763289\n",
            "RMSE for Regression Model is  ===> 11842.532709023691\n",
            "11842.532709023691 200\n",
            "Regression Model Score for Training Set is  ==> 0.9658706480180304\n",
            "Regression Model Score for Testing Set is   ==> 0.7774171337847479\n",
            "RMSE for Regression Model is  ===> 12114.383846387627\n",
            "Regression Model Score for Training Set is  ==> 0.9675739457144098\n",
            "Regression Model Score for Testing Set is   ==> 0.7833134238930493\n",
            "RMSE for Regression Model is  ===> 11952.849977093645\n",
            "Regression Model Score for Training Set is  ==> 0.9666349862156465\n",
            "Regression Model Score for Testing Set is   ==> 0.7770334024534533\n",
            "RMSE for Regression Model is  ===> 12124.821906776582\n",
            "Regression Model Score for Training Set is  ==> 0.9675657371681128\n",
            "Regression Model Score for Testing Set is   ==> 0.7901137042811313\n",
            "RMSE for Regression Model is  ===> 11763.796587582816\n",
            "11763.796587582816 240\n"
          ],
          "name": "stdout"
        }
      ]
    },
    {
      "cell_type": "code",
      "metadata": {
        "id": "FB9lpuxBgJNo"
      },
      "source": [
        ""
      ],
      "execution_count": null,
      "outputs": []
    },
    {
      "cell_type": "code",
      "metadata": {
        "id": "Sja7ICSJG64J"
      },
      "source": [
        ""
      ],
      "execution_count": null,
      "outputs": []
    }
  ]
}